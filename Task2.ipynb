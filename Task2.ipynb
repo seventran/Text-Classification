{
 "cells": [
  {
   "cell_type": "markdown",
   "metadata": {},
   "source": [
    "# Tutorial: Preprocessing and Vectorize the data"
   ]
  },
  {
   "cell_type": "markdown",
   "metadata": {},
   "source": [
    "> __In this tutorial, we will:__\n",
    "> 1. Preprocessing the data (randomly collections of 10000 tweets from twitter) and analyze name entity, noun and noun phrases used in those tweets\n",
    "> 2. Transform all tweets to vectors by 3 method:\n",
    ">  - Bag of Words\n",
    ">  - TF-IDF\n",
    ">  - Vector attribute from spacy\n",
    "> 3. Use K-Nearest Neighbors to index those vectors; get a random tweet and show the k neighbors and combare the results of 3 methods"
   ]
  },
  {
   "cell_type": "markdown",
   "metadata": {},
   "source": [
    "### What do we need ?\n",
    "- Import all general library we need for this task. 3 news library that we need to notice:\n",
    " - Spacy: a free open-source library for Natural Language Processing in Python.\n",
    " - Regression (re): help us clean data by replacing special characters and words\n",
    " - Counter: Do Statistical Analysis on Name Entity, Noun and Noun Phrase"
   ]
  },
  {
   "cell_type": "code",
   "execution_count": 1,
   "metadata": {},
   "outputs": [],
   "source": [
    "import pandas as pd\n",
    "import numpy as np\n",
    "import string\n",
    "#Regression Library \n",
    "import re\n",
    "import spacy\n",
    "from collections import Counter\n",
    "import seaborn as sns\n",
    "import matplotlib.pyplot as plt\n",
    "#Load Englisg language from Spacy library\n",
    "nlp = spacy.load('en')"
   ]
  },
  {
   "cell_type": "markdown",
   "metadata": {},
   "source": [
    "#### 1. Preproccssing raw dataa and analyze some features\n",
    "- Get the raw data from csv file"
   ]
  },
  {
   "cell_type": "code",
   "execution_count": 2,
   "metadata": {},
   "outputs": [],
   "source": [
    "#Get the raw data from file\n",
    "main_file_path = 'tweet_dataset.csv'\n",
    "data = pd.read_csv(main_file_path)"
   ]
  },
  {
   "cell_type": "markdown",
   "metadata": {},
   "source": [
    "- 3 function we need to implement to for preprocessing:\n",
    " - is_alpha() : eleminate all characters which art not alphabet word\n",
    " - clean_text(): Transform all numbers to label NUM and all emails to label EMAIL, remove @user, link, \\r and \\n\n",
    " - tokenize(): Tokenize all words of tweets (Only get alphabet word except some words) "
   ]
  },
  {
   "cell_type": "code",
   "execution_count": 3,
   "metadata": {},
   "outputs": [],
   "source": [
    "from spacy.lang.en.stop_words import STOP_WORDS\n",
    "\n",
    "remove_words = [\"what\", \"who\", \"why\", \"when\", \"where\", \"a\", \"an\", \"the\", \"that\", \"this\", \"those\", \"there\", \"just\", \"yet\", \"please\"]\n",
    "special = [\"NUM\", \"EMAIL\"]\n",
    "\n",
    "def is_alpha(word):\n",
    "    try:\n",
    "        return word.encode('ascii').isalpha()\n",
    "    except:\n",
    "        return False\n",
    "\n",
    "def clean_text(txt):\n",
    "    ###Use RE to:\n",
    "    #Replace an email by EMAIL\n",
    "    txt = ' '.join(re.sub(\"[A-Za-z0-9]+@[A-Za-z]+.[A-Za-z]\",\"EMAIL\",txt).split())\n",
    "    #Replace number by NUM\n",
    "    txt = ' '.join(re.sub(\" [0-9]+ \",\"NUM\",txt).split())\n",
    "    #Remove tweets' link, @user \n",
    "    txt = ' '.join(re.sub(\"(@[A-Za-z0-9]+)|(\\w+:\\/\\/\\S+)\",\" \",txt).split())\n",
    "    #Remove \\r \\n\n",
    "    txt = ' '.join(re.sub(\"\\r|\\n\",\" \",txt).split())\n",
    "    return txt\n",
    "\n",
    "#Use Spacy to tokenize\n",
    "def tokenize(sent):\n",
    "    tweet = nlp(sent)\n",
    "    lemmas = []\n",
    "    for i in range(len(tweet)):\n",
    "        #tweet_b = nlp(sent)\n",
    "        if tweet[i].text in special:\n",
    "            lemmas.append('@'+tweet[i].text.lower())\n",
    "            name_entity.append('@'+tweet[i].text.lower())\n",
    "        else:\n",
    "            if tweet[i].text.lower() not in remove_words and is_alpha(tweet[i].text):\n",
    "                lemmas.append(tweet[i].lemma_.lower().strip() if tweet[i].lemma_ != \"-PRON-\" else tweet[i].lower_)\n",
    "                #Extract Name Entities\n",
    "                if tweet[i].ent_type != 0:\n",
    "                    name_entity.append(tweet[i].text.lower())\n",
    "                #Extract Noun\n",
    "                if tweet[i].pos_ == \"NOUN\":\n",
    "                    noun.append(tweet[i].lemma_.lower().strip())\n",
    "                #\n",
    "                #if tweet[i].pos_ == \"NOUN\":\n",
    "                #    pos = tweet_b[i].left_edge.i\n",
    "                #    span = tweet_b[tweet_b[i].left_edge.i : tweet_b[i].right_edge.i+1]\n",
    "                #    span.merge()\n",
    "                #    print (span)\n",
    "                #    if tweet_b[pos].dep_ in np_labels:\n",
    "                #        noun_phrase.append(tweet_b[pos].text.lower())\n",
    "    lemmas = ' '.join(lemmas)\n",
    "    return lemmas"
   ]
  },
  {
   "cell_type": "markdown",
   "metadata": {},
   "source": [
    "> ___Note:___ Process of extracting name entities, nouns and noun phrases runs after between cleaning text and tokenizing. After tokenizing, because of removing some special words, we will have some problems in extraction those feature.\n",
    "\n",
    "- In function tokenize(), we also implement 2 if conditions to extract Name Entities and Nouns from all tweets.\n",
    " - Token.ent_type returns the type of a name entity. If the return values is not equal to 0, extract that token\n",
    " - Token.pos_ returns the part-of-speech of a token. If it returns \"NOUN\", extract that token\n",
    "- Because the process of noun phrase extract is more complicated, we have to implement get_noun_phrase()"
   ]
  },
  {
   "cell_type": "code",
   "execution_count": 4,
   "metadata": {},
   "outputs": [],
   "source": [
    "np_labels = [\"nsubj\", \"nsubjpass\", \"dobj\", \"iobj\", \"pobj\", \"attr\"]\n",
    "#Extract Noun phrase\n",
    "def get_noun_phrase(sent):\n",
    "    tweet = nlp(sent)\n",
    "    i = 0\n",
    "    while True:\n",
    "        if tweet[i].text not in special:\n",
    "            if not tweet[i].is_stop and tweet[i].text.lower() not in STOP_WORDS and is_alpha(tweet[i].text):\n",
    "                #Find a noun in a sentence (because a noun phrase will contains at least a noun)\n",
    "                if tweet[i].pos_ == \"NOUN\":\n",
    "                    #Calculate the position of merged token in tweet after merging\n",
    "                    pos = tweet[i].left_edge.i\n",
    "                    #Calculate the position of the next token in tweet after merging\n",
    "                    new_pos = tweet[i].left_edge.i + 1\n",
    "                    #Get syntactic descendant of token and merge them as a new token\n",
    "                    span = tweet[tweet[i].left_edge.i : tweet[i].right_edge.i+1]\n",
    "                    span.merge()\n",
    "                    #Only get merged token whose depth attribute is in np_labels\n",
    "                    if tweet[pos].dep_ in np_labels:\n",
    "                        noun_phrase.append(tweet[pos].text.lower())\n",
    "                    i = new_pos - 1\n",
    "        if i + 1 == len(tweet):\n",
    "            break\n",
    "        else:\n",
    "            i += 1"
   ]
  },
  {
   "cell_type": "markdown",
   "metadata": {},
   "source": [
    "- After implement all neccessary process, runs them\n",
    "- Firstly, cleaning text"
   ]
  },
  {
   "cell_type": "code",
   "execution_count": 5,
   "metadata": {},
   "outputs": [],
   "source": [
    "tweets = data['Content']\n",
    "for i in range(len(tweets)):\n",
    "    tweets[i] = clean_text(tweets[i])\n",
    "#ps = pd.Series(tweets)\n",
    "#ps.to_csv('Clean_tweet.csv')"
   ]
  },
  {
   "cell_type": "markdown",
   "metadata": {},
   "source": [
    "- Then extracting 3 features and tokenize the data"
   ]
  },
  {
   "cell_type": "code",
   "execution_count": 6,
   "metadata": {},
   "outputs": [
    {
     "name": "stdout",
     "output_type": "stream",
     "text": [
      "0\n",
      "500\n",
      "1000\n",
      "1500\n",
      "2000\n",
      "2500\n",
      "3000\n",
      "3500\n",
      "4000\n",
      "4500\n",
      "5000\n",
      "5500\n",
      "6000\n",
      "6500\n",
      "7000\n",
      "7500\n",
      "8000\n",
      "8500\n",
      "9000\n",
      "9500\n"
     ]
    }
   ],
   "source": [
    "name_entity = []\n",
    "noun = []\n",
    "noun_phrase = []\n",
    "\n",
    "#This data is used for method 3\n",
    "tokenized_data = []\n",
    "#This data is used for method 1 & 2\n",
    "tokenized_data_strings = []\n",
    "for i in range(len(tweets)):\n",
    "    #Extract noun phrases\n",
    "    get_noun_phrase(tweets[i])\n",
    "    #Get tokenized data\n",
    "    string = tokenize(tweets[i])\n",
    "    tokenized_data.append(nlp(string))\n",
    "    tokenized_data_strings.append(string)\n",
    "    if (i % 500 == 0):\n",
    "        print (i)\n"
   ]
  },
  {
   "cell_type": "markdown",
   "metadata": {},
   "source": [
    "- After extracting name entities, nouns and noun phrases, we use Counter to count, analyze and plot the 20 most common of them"
   ]
  },
  {
   "cell_type": "code",
   "execution_count": 7,
   "metadata": {},
   "outputs": [
    {
     "data": {
      "image/png": "[encoded data removed]",
      "text/plain": [
       "<matplotlib.figure.Figure at 0x2d3a9b82cf8>"
      ]
     },
     "metadata": {},
     "output_type": "display_data"
    }
   ],
   "source": [
    "#Plot 20 most common name entities used in tweets\n",
    "name_entity_count = Counter(name_entity)\n",
    "\n",
    "common_words = [word[0] for word in name_entity_count.most_common(20)]\n",
    "common_counts = [word[1] for word in name_entity_count.most_common(20)]\n",
    "\n",
    "fig = plt.figure(figsize=(18,6))\n",
    "sns.barplot(x=common_words, y=common_counts)\n",
    "plt.title('Most Common Name entities used in tweets')\n",
    "plt.show()"
   ]
  },
  {
   "cell_type": "code",
   "execution_count": 8,
   "metadata": {},
   "outputs": [
    {
     "data": {
      "image/png": "[encoded data removed]",
      "text/plain": [
       "<matplotlib.figure.Figure at 0x2d3a84a9080>"
      ]
     },
     "metadata": {},
     "output_type": "display_data"
    }
   ],
   "source": [
    "#Plot 20 most common nouns used in tweets\n",
    "noun_count = Counter(noun)\n",
    "\n",
    "common_nouns = [word[0] for word in noun_count.most_common(20)]\n",
    "common_ncounts = [word[1] for word in noun_count.most_common(20)]\n",
    "\n",
    "fig = plt.figure(figsize=(18,6))\n",
    "sns.barplot(x=common_nouns, y=common_ncounts)\n",
    "plt.title('Most Common Nouns used in tweets')\n",
    "plt.show()"
   ]
  },
  {
   "cell_type": "code",
   "execution_count": 9,
   "metadata": {},
   "outputs": [
    {
     "data": {
      "image/png": "[encoded data removed]",
      "text/plain": [
       "<matplotlib.figure.Figure at 0x2d3a858d080>"
      ]
     },
     "metadata": {},
     "output_type": "display_data"
    },
    {
     "name": "stdout",
     "output_type": "stream",
     "text": [
      "1 people\n",
      "2 life\n",
      "3 that thang\n",
      "4 love\n",
      "5 today\n",
      "6 things\n",
      "7 the world\n",
      "8 a video\n",
      "9 the coolest thing\n",
      "10 the happiest place on earth 💫\n",
      "11 t\n",
      "12 u\n",
      "13 my mom\n",
      "14 an arguement with your man\n",
      "15 army = best of me\n",
      "16 m\n",
      "17 this guy\n",
      "18 your recent efforts\n",
      "19 capricorn\n",
      "20 work\n"
     ]
    }
   ],
   "source": [
    "#Plot 20 most common noun phrases used in tweets\n",
    "noun_phrase_count = Counter(noun_phrase)\n",
    "\n",
    "common_noun_phrase = [word[0] for word in noun_phrase_count.most_common(20)]\n",
    "common_npcounts = [word[1] for word in noun_phrase_count.most_common(20)]\n",
    "\n",
    "fig = plt.figure(figsize=(18,6))\n",
    "sns.barplot(x=list(range(1, 21)), y=common_npcounts)\n",
    "plt.title('Most Common Noun Phrases used in tweets')\n",
    "plt.show()\n",
    "\n",
    "for i in range(len(common_noun_phrase)):\n",
    "    print (i + 1, common_noun_phrase[i])\n",
    "    "
   ]
  },
  {
   "cell_type": "markdown",
   "metadata": {},
   "source": [
    "#### 2. Transform to vector\n",
    "- In this part, we will use 3 methods:\n",
    " \n",
    "\n",
    "1/ Bag of Words: Create a dictionary of words, the number of word in this dictionary will be the dimension of vector. The value of the dimensions of a sentence's vector will be calculate by the occurance of the dimension word. Use __CountVectorizer Library__ to get vectorizer and transform"
   ]
  },
  {
   "cell_type": "code",
   "execution_count": 10,
   "metadata": {},
   "outputs": [
    {
     "name": "stdout",
     "output_type": "stream",
     "text": [
      "(10000, 13424)\n"
     ]
    }
   ],
   "source": [
    "#Method 1: Bag of Words\n",
    "from sklearn.feature_extraction.text import CountVectorizer\n",
    "vectorizer_BoW = CountVectorizer(stop_words='english')\n",
    "X1 = vectorizer_BoW.fit_transform(tokenized_data_strings)\n",
    "vectors_m1 = X1.toarray()\n",
    "print (vectors_m1.shape)"
   ]
  },
  {
   "cell_type": "markdown",
   "metadata": {},
   "source": [
    "2/ TF-IDF: The ideas is the same with BoW.However, after get the vector by counting, we have to calculate the value again to make the vector more accuracy (The occurance of popular words will make the result wrong. TF-IDF will help us solve this problem.  Use __TfidfVectorizer Library__ to get vectorizer and transform"
   ]
  },
  {
   "cell_type": "code",
   "execution_count": 8,
   "metadata": {},
   "outputs": [
    {
     "name": "stdout",
     "output_type": "stream",
     "text": [
      "(10000, 13424)\n"
     ]
    }
   ],
   "source": [
    " #Method 2: Tf-idf\n",
    "from sklearn.feature_extraction.text import TfidfVectorizer\n",
    "vectorizer_tfidf = TfidfVectorizer(stop_words='english')\n",
    "\n",
    "X2 = vectorizer_tfidf.fit_transform(tokenized_data_strings)\n",
    "vectors_m2 = X2.toarray()\n",
    "print (vectors_m2.shape)"
   ]
  },
  {
   "cell_type": "markdown",
   "metadata": {},
   "source": [
    "3/ Sentence Vector attribute: Spacy provides us an attribute to transfer a sentence to a vector. This attribute will return the mean vector of all words'vector in that sentence"
   ]
  },
  {
   "cell_type": "code",
   "execution_count": 9,
   "metadata": {},
   "outputs": [
    {
     "name": "stdout",
     "output_type": "stream",
     "text": [
      "(10000, 384)\n"
     ]
    }
   ],
   "source": [
    "#Method 3: Sentence Vectorn\n",
    "zero = np.full(384, 0)\n",
    "vectors_m3 = np.empty([len(tokenized_data), len(tokenized_data[0].vector)])\n",
    "for i in range(len(tokenized_data)):\n",
    "    if tokenized_data[i].vector.shape == (0,):\n",
    "        vectors_m3[i] = zero\n",
    "    else:\n",
    "        vectors_m3[i] = tokenized_data[i].vector\n",
    "        \n",
    "print (vectors_m3.shape)"
   ]
  },
  {
   "cell_type": "markdown",
   "metadata": {},
   "source": [
    "#### 3. Indexing vectors by K-Nearest Neighbors and test by a random tweet\n",
    "- Use knn to fit all 3 vector lists of 3 methods.\n",
    "- Get a random tweet. Find the k nearest neighbor (k = 10) and compare result between 3 methods\n",
    "\n",
    "___Note:___ I will get a random tweet from 10000 tweets, which means the element of knn is always itself"
   ]
  },
  {
   "cell_type": "code",
   "execution_count": 13,
   "metadata": {},
   "outputs": [
    {
     "name": "stdout",
     "output_type": "stream",
     "text": [
      "[[5234 9688 3398 7953 6153 5117 6065 7412 5511 5213]]\n",
      "[[5234 5707 5700 5545 5562 5511 5455 5069 5420 5213]]\n",
      "[[5234 4088 6268 5014 7798 7713 3553 4218 9012  624]]\n",
      "at time be in hargeisa be do my research paper and we shall meet if possible mr president\n",
      "1\n",
      "time\n",
      "and you still be go nowhere\n",
      "do i have to be bear in new orleans now my food expectation high asf like nothing else compare to our food\n",
      "2\n",
      "should be but it take time\n",
      "you\n",
      "my mom have pass on ryan mom be in arizona anneli will be with chris amp his family they get back together amp\n",
      "3\n",
      "me next time\n",
      "i do same\n",
      "if i could spend my summer vacation in place like long island in it have my family friend job and do\n",
      "4\n",
      "time be\n",
      "you still have do it\n",
      "dear do you see these statement by your new attorney on time warner merger be they true as yo\n",
      "5\n",
      "it time\n",
      "both\n",
      "my wife and baby be do well with right treatment her condition should be threat to either of them s\n",
      "6\n",
      "have time part\n",
      "\n",
      "nawaz sharif have prove time and time again he be indian lacky time for him to be put on trial for treason\n",
      "7\n",
      "would be first time\n",
      "you should too\n",
      "i can believe high school in rancho cucamonga have spread in their year book say allah akbar not one mentio\n",
      "8\n",
      "both\n",
      "you at\n",
      "we come at ya like speed school bus meangirlsbway be beyond excited to announce our national tour will\n",
      "9\n",
      "take it\n",
      "take it\n",
      "till today i do know how to solve simultaneous equation but i always score in my history exams amp in literature\n"
     ]
    }
   ],
   "source": [
    "from random import randint\n",
    "ran_tweet_i = randint(0, len(vectors_m1) - 1)\n",
    "\n",
    "from sklearn.neighbors import NearestNeighbors\n",
    "\n",
    "neigh = NearestNeighbors(n_neighbors=10) #get model knn where k = 10\n",
    "\n",
    "#Use kkn for vectors of method 1\n",
    "neigh.fit(vectors_m1)\n",
    "knn_list_m1 = neigh.kneighbors([vectors_m1[ran_tweet_i]], return_distance = False)\n",
    "print (knn_list_m1)\n",
    "\n",
    "#Use kkn for vectors of method 2\n",
    "neigh.fit(vectors_m2)\n",
    "knn_list_m2 = neigh.kneighbors([vectors_m2[ran_tweet_i]], return_distance = False)\n",
    "print (knn_list_m2)\n",
    "\n",
    "#Use kkn for vectors of method 3\n",
    "neigh.fit(vectors_m3)\n",
    "knn_list_m3 = neigh.kneighbors([vectors_m3[ran_tweet_i]], return_distance = False)\n",
    "print (knn_list_m3)\n",
    "\n",
    "print (tokenized_data_strings[ran_tweet_i])\n",
    "for i in range(1, 10):\n",
    "    print (i)\n",
    "    print (tokenized_data_strings[knn_list_m1[0][i]])\n",
    "    print (tokenized_data_strings[knn_list_m2[0][i]])\n",
    "    print (tokenized_data_strings[knn_list_m3[0][i]])"
   ]
  }
 ],
 "metadata": {
  "kernelspec": {
   "display_name": "Python 3",
   "language": "python",
   "name": "python3"
  },
  "language_info": {
   "codemirror_mode": {
    "name": "ipython",
    "version": 3
   },
   "file_extension": ".py",
   "mimetype": "text/x-python",
   "name": "python",
   "nbconvert_exporter": "python",
   "pygments_lexer": "ipython3",
   "version": "3.6.4"
  }
 },
 "nbformat": 4,
 "nbformat_minor": 2
}
