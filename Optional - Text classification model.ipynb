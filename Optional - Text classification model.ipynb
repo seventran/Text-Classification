{
 "cells": [
  {
   "cell_type": "markdown",
   "metadata": {},
   "source": [
    "# Text Classification with The 20 newsgroups text dataset"
   ]
  },
  {
   "cell_type": "markdown",
   "metadata": {},
   "source": [
    "## 1. Import neccessary libraries\n",
    "- MultinomialNB (The multinomial Naive Bayes classifier): is suitable for classification with discrete features\n",
    "- CountVectorizer: transform text to vector by Bag of Words method\n",
    "- TfidfVectorizer: transform text to vector by TF-IDF method\n",
    "- TfidfTransformer: recalculate vectors of a BoW (by TF-IDF) to make vector more accurracy  "
   ]
  },
  {
   "cell_type": "code",
   "execution_count": 1,
   "metadata": {},
   "outputs": [],
   "source": [
    "#from sklearn.metrics import accuracy_score\n",
    "from sklearn.naive_bayes import MultinomialNB\n",
    "from sklearn.feature_extraction.text import CountVectorizer\n",
    "from sklearn.feature_extraction.text import TfidfTransformer\n",
    "from sklearn.feature_extraction.text import TfidfVectorizer\n",
    "from sklearn import metrics\n",
    "#import string\n",
    "import pandas as pd\n",
    "#import re\n",
    "#import spacy\n",
    "#nlp = spacy.load('en')"
   ]
  },
  {
   "cell_type": "markdown",
   "metadata": {},
   "source": [
    "## 2. Get the 20 newsgroups text dataset\n",
    "- Get train subset test subset\n",
    "- Remove the footer part and the quote part of an email"
   ]
  },
  {
   "cell_type": "code",
   "execution_count": 32,
   "metadata": {},
   "outputs": [],
   "source": [
    "from sklearn.datasets import fetch_20newsgroups\n",
    "#cats = ['alt.atheism', 'comp.graphics', 'comp.os.ms-windows.misc', 'comp.sys.ibm.pc.hardware', 'comp.sys.mac.hardware', 'comp.windows.x', 'misc.forsale']\n",
    "newsgroups_train = fetch_20newsgroups(subset='train', shuffle = True, remove=('footers', 'quotes'))\n",
    "newsgroups_test = fetch_20newsgroups(subset='test', shuffle = True, remove=('footers', 'quotes'))\n",
    "\n",
    "#newsgroups_train = fetch_20newsgroups(subset='train', categories = cats, shuffle = True, remove=('footers', 'quotes'))\n",
    "#newsgroups_test = fetch_20newsgroups(subset='test', categories = cats, shuffle = True, remove=('footers', 'quotes'))"
   ]
  },
  {
   "cell_type": "markdown",
   "metadata": {},
   "source": [
    "## 3. Preprocess the data\n",
    "- This process includes:\n",
    " - Clean data (Remove punctuation, and stopword)\n",
    " - Tokenize data\n",
    " - Vectorize data: use 2 methods: Bag of Words and TF-IDF\n",
    "- __CountVectorizer Library:__ Support us to do all steps. It uses Bag of Words method to vectorize data\n",
    "- __TfidfTransformer Library:__ Use TF-IDF methods to transform vector of BoW method"
   ]
  },
  {
   "cell_type": "code",
   "execution_count": 33,
   "metadata": {},
   "outputs": [],
   "source": [
    "###Method 1: Bag of Words\n",
    "vectorizer_bow = CountVectorizer(stop_words = \"english\")\n",
    "vectors_bow = vectorizer_bow.fit_transform(newsgroups_train.data)\n",
    "vectors_bow_t = vectorizer_bow.transform(newsgroups_test.data)\n",
    "###Method 2: TF-IDF\n",
    "tfidf_transformer = TfidfTransformer()\n",
    "vectors_tfidf = tfidf_transformer.fit_transform(vectors_bow)\n",
    "vectors_tfidf_t = tfidf_transformer.fit_transform(vectors_bow_t)\n",
    "#vectorizer_tfidf = TfidfVectorizer(stop_words='english')\n",
    "#vectors_tfidf = vectorizer_tfidf.fit_transform(newsgroups_train.data)\n",
    "#vectors_tfidf_t = vectorizer_tfidf.transform(newsgroups_test.data)"
   ]
  },
  {
   "cell_type": "markdown",
   "metadata": {},
   "source": [
    "# 4. Training\n",
    "- Use The multinomial Naive Bayes classifier to train\n",
    "- Predict the target group of a testing dataset and compare with the result to get the accuracy (F-score)"
   ]
  },
  {
   "cell_type": "code",
   "execution_count": 34,
   "metadata": {},
   "outputs": [
    {
     "name": "stdout",
     "output_type": "stream",
     "text": [
      "F-score of BoW: 0.7182918139019095\n"
     ]
    }
   ],
   "source": [
    "#Get the model\n",
    "clf = MultinomialNB(alpha=.01)\n",
    "#Train model with training dataset\n",
    "clf.fit(vectors_bow, newsgroups_train.target)\n",
    "#Predict the target of testing dataset\n",
    "pred = clf.predict(vectors_bow_t)\n",
    "\n",
    "print (\"F-score of BoW:\", metrics.f1_score(newsgroups_test.target, pred, average='macro'))"
   ]
  },
  {
   "cell_type": "code",
   "execution_count": 35,
   "metadata": {},
   "outputs": [
    {
     "name": "stdout",
     "output_type": "stream",
     "text": [
      "F-score of BoW: 0.7819474884205162\n"
     ]
    }
   ],
   "source": [
    "clf = MultinomialNB(alpha=.01)\n",
    "\n",
    "clf.fit(vectors_tfidf, newsgroups_train.target)\n",
    "\n",
    "pred = clf.predict(vectors_tfidf_t)\n",
    "\n",
    "print (\"F-score of BoW:\", metrics.f1_score(newsgroups_test.target, pred, average='macro'))"
   ]
  },
  {
   "cell_type": "markdown",
   "metadata": {},
   "source": [
    "## 5. Conclusion:\n",
    "- I run above code with the number of categories k (2 < k < 20)\n",
    "- BoW gets higher F-score in almost cases with k <= 3\n",
    "- With k >= 4, TF-IDF gets higher score in all cases"
   ]
  },
  {
   "cell_type": "code",
   "execution_count": null,
   "metadata": {},
   "outputs": [],
   "source": []
  }
 ],
 "metadata": {
  "kernelspec": {
   "display_name": "Python 3",
   "language": "python",
   "name": "python3"
  },
  "language_info": {
   "codemirror_mode": {
    "name": "ipython",
    "version": 3
   },
   "file_extension": ".py",
   "mimetype": "text/x-python",
   "name": "python",
   "nbconvert_exporter": "python",
   "pygments_lexer": "ipython3",
   "version": "3.6.4"
  }
 },
 "nbformat": 4,
 "nbformat_minor": 2
}
